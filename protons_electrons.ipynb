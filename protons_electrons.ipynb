{
 "cells": [
  {
   "cell_type": "code",
   "execution_count": 145,
   "metadata": {},
   "outputs": [],
   "source": [
    "import numpy as np\n",
    "import tensorflow as tf\n",
    "import uproot as up\n",
    "import matplotlib.pyplot as plt\n",
    "import matplotlib.colors as colors"
   ]
  },
  {
   "cell_type": "code",
   "execution_count": 146,
   "metadata": {},
   "outputs": [],
   "source": [
    "e_file_0=up.open('electrons_100GeV_1TeV_0_showercalib.root')\n",
    "e_file_1=up.open('electrons_100GeV_1TeV_1_showercalib.root')\n",
    "e_file_2=up.open('electrons_100GeV_1TeV_2_showercalib.root')\n",
    "e_file_3=up.open('electrons_100GeV_1TeV_3_showercalib.root')\n",
    "e_file_4=up.open('electrons_100GeV_1TeV_4_showercalib.root')\n",
    "e_file_5=up.open('electrons_100GeV_1TeV_5_showercalib.root')\n",
    "e_file_6=up.open('electrons_100GeV_1TeV_6_showercalib.root')"
   ]
  },
  {
   "cell_type": "code",
   "execution_count": 147,
   "metadata": {},
   "outputs": [],
   "source": [
    "p_file_0=up.open('protons_100GeV_1TeV_0_showercalib.root')\n",
    "p_file_1=up.open('protons_100GeV_1TeV_1_showercalib.root')\n",
    "p_file_2=up.open('protons_100GeV_1TeV_2_showercalib.root')\n",
    "p_file_3=up.open('protons_100GeV_1TeV_3_showercalib.root')\n",
    "p_file_4=up.open('protons_100GeV_1TeV_4_showercalib.root')\n",
    "p_file_5=up.open('protons_100GeV_1TeV_5_showercalib.root')"
   ]
  },
  {
   "cell_type": "code",
   "execution_count": 148,
   "metadata": {},
   "outputs": [],
   "source": [
    "e_tree_0=e_file_0['mcCal_eventsTable;1']\n",
    "e_tree_1=e_file_1['mcCal_eventsTable;1']\n",
    "e_tree_2=e_file_2['mcCal_eventsTable;1']\n",
    "e_tree_3=e_file_3['mcCal_eventsTable;1']\n",
    "e_tree_4=e_file_4['mcCal_eventsTable;1']\n",
    "e_tree_5=e_file_5['mcCal_eventsTable;1']\n",
    "e_tree_6=e_file_6['mcCal_eventsTable;1']"
   ]
  },
  {
   "cell_type": "code",
   "execution_count": 149,
   "metadata": {},
   "outputs": [],
   "source": [
    "p_tree_0=p_file_0['mcCal_eventsTable;1']\n",
    "p_tree_1=p_file_1['mcCal_eventsTable;1']\n",
    "p_tree_2=p_file_2['mcCal_eventsTable;1']\n",
    "p_tree_3=p_file_3['mcCal_eventsTable;1']\n",
    "p_tree_4=p_file_4['mcCal_eventsTable;1']\n",
    "p_tree_5=p_file_5['mcCal_eventsTable;1']"
   ]
  },
  {
   "cell_type": "code",
   "execution_count": 150,
   "metadata": {},
   "outputs": [],
   "source": [
    "e_dep_0=e_tree_0.arrays('dep')\n",
    "e_dep_1=e_tree_1.arrays('dep')\n",
    "e_dep_2=e_tree_2.arrays('dep')\n",
    "e_dep_3=e_tree_3.arrays('dep')\n",
    "e_dep_4=e_tree_4.arrays('dep')\n",
    "e_dep_5=e_tree_5.arrays('dep')\n",
    "e_dep_6=e_tree_6.arrays('dep')"
   ]
  },
  {
   "cell_type": "code",
   "execution_count": 151,
   "metadata": {},
   "outputs": [],
   "source": [
    "e_dep=np.concatenate((e_dep_0,e_dep_1,e_dep_2,e_dep_3,e_dep_4,e_dep_5,e_dep_6))"
   ]
  },
  {
   "cell_type": "code",
   "execution_count": 152,
   "metadata": {},
   "outputs": [
    {
     "data": {
      "text/html": [
       "<pre>[{dep: [[0.0514, 0.0133, 0.00873, 0.0105, 0.00518, ..., 0, 0, 0, 0], ...]},\n",
       " {dep: [[0.488, 0.0412, 0.0137, 0.00539, ..., 0.000569, 0, 0, 0], ...]},\n",
       " {dep: [[1.35, 0.0799, 0.0162, 0.00906, ..., 0.000569, 0, 0, 0], ...]},\n",
       " {dep: [[1.08, 0.0448, 0.0196, 0.00864, ..., 2.59e-05, 0, 0, 0], ...]},\n",
       " {dep: [[1.48, 0.0276, 0.0231, 0.00888, ..., 8.62e-07, 0, 0, 0], ...]},\n",
       " {dep: [[0.99, 0.0132, 0.00728, 0.01, ..., 8.62e-07, 0, 0, 0], ...]},\n",
       " {dep: [[1.9, 0.0581, 0.0364, 0.0293, ..., 8.62e-07, 0, 0, 0], ...]},\n",
       " {dep: [[0.542, 0.0207, 0.00645, 0.00401, ..., 8.62e-08, 0, 0, 0], ...]},\n",
       " {dep: [[0.356, 0.0322, 0.045, 0.0129, ..., 8.62e-08, 0, 0, 0], ...]},\n",
       " {dep: [[0.225, 0.00987, 0.00792, 0.00474, ..., 9.58e-09, 0, 0, 0], ...]},\n",
       " ...,\n",
       " {dep: [[2.04, 0.0243, 0.0265, ..., 7.02e-14, 0.000626, 3.33e-68], ...]},\n",
       " {dep: [[0.602, 0.0349, 0.0197, ..., 6.38e-15, 0.000125, 1.11e-68], ...]},\n",
       " {dep: [[0.421, 0.0319, 0.0164, ..., 6.38e-15, 0.000125, 1.11e-68], ...]},\n",
       " {dep: [[1.06, 0.0108, 0.00751, ..., 6.38e-15, 0.000125, 1.11e-68], ...]},\n",
       " {dep: [[0.637, 0.0193, 0.00789, ..., 2.13e-16, 4.17e-06, 3.96e-70], ...]},\n",
       " {dep: [[0.813, 0.046, 0.0201, ..., 2.13e-16, 4.17e-06, 3.96e-70], ...]},\n",
       " {dep: [[2.2, 0.115, 0.07, ..., 2.13e-16, 4.17e-06, 3.96e-70], ...]},\n",
       " {dep: [[0.756, 0.0235, 0.012, ..., 2.13e-16, 4.17e-06, 3.96e-70], ...]},\n",
       " {dep: [[1.23, 0.0669, 0.0309, ..., 2.13e-16, 4.17e-06, 3.96e-70], ...]}]\n",
       "---------------------------------------------------------------------------\n",
       "type: 284515 * {\n",
       "    dep: var * var * float64\n",
       "}</pre>"
      ],
      "text/plain": [
       "<Array [{dep: [[0.0514, ...], ...]}, ...] type='284515 * {dep: var * var * ...'>"
      ]
     },
     "execution_count": 152,
     "metadata": {},
     "output_type": "execute_result"
    }
   ],
   "source": [
    "e_dep"
   ]
  },
  {
   "cell_type": "code",
   "execution_count": 153,
   "metadata": {},
   "outputs": [],
   "source": [
    "p_dep_0=p_tree_0.arrays('dep')\n",
    "p_dep_1=p_tree_1.arrays('dep')\n",
    "p_dep_2=p_tree_2.arrays('dep')\n",
    "p_dep_3=p_tree_3.arrays('dep')\n",
    "p_dep_4=p_tree_4.arrays('dep')\n",
    "p_dep_5=p_tree_5.arrays('dep')"
   ]
  },
  {
   "cell_type": "code",
   "execution_count": 154,
   "metadata": {},
   "outputs": [],
   "source": [
    "p_dep=np.concatenate((p_dep_0,p_dep_1,p_dep_2,p_dep_3,p_dep_4,p_dep_5))"
   ]
  },
  {
   "cell_type": "code",
   "execution_count": 155,
   "metadata": {},
   "outputs": [
    {
     "data": {
      "text/html": [
       "<pre>[{dep: [[0.924, 0.259, 0.0981, 0.0519, 0.114, ..., 0, 0, 0, 0, 0], ...]},\n",
       " {dep: [[0.948, 0.0871, 0.013, 0.0099, 0.014, ..., 0, 0, 0, 0, 0], ...]},\n",
       " {dep: [[0.319, 0.0117, 0.00646, 0.000619, ..., 0, 0, 0, 0], ..., [...]]},\n",
       " {dep: [[0.102, 0.0089, 0.00808, 0.00107, 0.00392, ..., 0, 0, 0, 0], ...]},\n",
       " {dep: [[0.121, 0.0116, 0.035, ..., 0.00207, 0.00142, 0.0403], ...]},\n",
       " {dep: [[1.43, 0.252, 0.104, ..., 0.00587, 7.88e-05, 0.00448], ...]},\n",
       " {dep: [[0.293, 0.0236, 0.00741, ..., 0.00587, 7.88e-05, 0.00448], ...]},\n",
       " {dep: [[0.177, 0.0033, 0.00106, ..., 0.00587, 7.88e-05, 0.00448], ...]},\n",
       " {dep: [[4.17, 1.13, 0.351, 0.277, ..., 0.00587, 7.88e-05, 0.00448], ...]},\n",
       " {dep: [[2.39, 0.459, 0.186, ..., 0.00587, 7.88e-05, 0.00448], ...]},\n",
       " ...,\n",
       " {dep: [[0.278, 0.032, 0.0104, ..., 4.63e-09, 4.51e-13, 1.03e-06], ...]},\n",
       " {dep: [[0.162, 0.0284, 0.042, ..., 4.63e-09, 4.51e-13, 1.03e-06], ...]},\n",
       " {dep: [[0.541, 0.0235, 0.0183, ..., 4.63e-09, 4.51e-13, 1.03e-06], ...]},\n",
       " {dep: [[0.198, 0.00626, 0.00378, ..., 4.51e-13, 1.03e-06], ..., [...]]},\n",
       " {dep: [[0.0775, 0.000782, 0.00027, ..., 4.51e-13, 1.03e-06], ..., [...]]},\n",
       " {dep: [[0.0584, 0.000156, 0.00223, ..., 7.52e-14, 1.03e-06], ..., [...]]},\n",
       " {dep: [[0.042, 0.00961, 0.00958, ..., 7.52e-14, 1.03e-06], ..., [...]]},\n",
       " {dep: [[0.0104, 0.00116, 0.000564, ..., 7.52e-14, 1.03e-06], ..., [...]]},\n",
       " {dep: [[0.0272, 0.0412, 0.0152, ..., 3.86e-10, 7.52e-14, 1.03e-06], ...]}]\n",
       "---------------------------------------------------------------------------\n",
       "type: 160171 * {\n",
       "    dep: var * var * float64\n",
       "}</pre>"
      ],
      "text/plain": [
       "<Array [{dep: [[0.924, ...], ...]}, ..., {...}] type='160171 * {dep: var * ...'>"
      ]
     },
     "execution_count": 155,
     "metadata": {},
     "output_type": "execute_result"
    }
   ],
   "source": [
    "p_dep"
   ]
  },
  {
   "cell_type": "code",
   "execution_count": 156,
   "metadata": {},
   "outputs": [],
   "source": [
    "p_images=list(map(np.transpose, p_dep['dep']))"
   ]
  },
  {
   "cell_type": "code",
   "execution_count": 158,
   "metadata": {},
   "outputs": [],
   "source": [
    "e_images=list(map(np.transpose, e_dep['dep']))"
   ]
  },
  {
   "cell_type": "code",
   "execution_count": 171,
   "metadata": {},
   "outputs": [
    {
     "data": {
      "image/png": "[encoded data removed]",
      "text/plain": [
       "<Figure size 640x480 with 2 Axes>"
      ]
     },
     "metadata": {},
     "output_type": "display_data"
    }
   ],
   "source": [
    "plt.imshow(p_images[1],cmap='viridis',norm=colors.LogNorm())\n",
    "plt.ylim(0,20)\n",
    "plt.xlim(0,20)\n",
    "plt.colorbar()\n",
    "plt.clim(0.00005,0.05)\n",
    "plt.show()"
   ]
  },
  {
   "cell_type": "code",
   "execution_count": 161,
   "metadata": {},
   "outputs": [
    {
     "data": {
      "image/png": "[encoded data removed]",
      "text/plain": [
       "<Figure size 640x480 with 2 Axes>"
      ]
     },
     "metadata": {},
     "output_type": "display_data"
    }
   ],
   "source": [
    "plt.imshow(e_images[0],cmap='viridis',norm=colors.LogNorm())\n",
    "plt.ylim(0,20)\n",
    "plt.xlim(0,20)\n",
    "plt.colorbar()\n",
    "plt.clim(0.0001,10)\n",
    "plt.show()"
   ]
  }
 ],
 "metadata": {
  "kernelspec": {
   "display_name": "Python 3",
   "language": "python",
   "name": "python3"
  },
  "language_info": {
   "codemirror_mode": {
    "name": "ipython",
    "version": 3
   },
   "file_extension": ".py",
   "mimetype": "text/x-python",
   "name": "python",
   "nbconvert_exporter": "python",
   "pygments_lexer": "ipython3",
   "version": "3.8.10"
  }
 },
 "nbformat": 4,
 "nbformat_minor": 2
}
