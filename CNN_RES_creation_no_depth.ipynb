{
 "cells": [
  {
   "cell_type": "code",
   "execution_count": 1,
   "id": "ba0cb4d0-d0da-4b86-bda6-db311c553214",
   "metadata": {},
   "outputs": [
    {
     "name": "stderr",
     "output_type": "stream",
     "text": [
      "2024-09-06 13:47:52.363882: I tensorflow/core/util/util.cc:169] oneDNN custom operations are on. You may see slightly different numerical results due to floating-point round-off errors from different computation orders. To turn them off, set the environment variable `TF_ENABLE_ONEDNN_OPTS=0`.\n"
     ]
    }
   ],
   "source": [
    "from keras.models import Model, load_model\n",
    "from keras.layers import Dense,Reshape,Flatten,Input, MaxPooling1D, UpSampling1D, Dropout,Add,Activation,Conv1D,Conv2D\n",
    "from keras.regularizers import l2\n",
    "import os\n",
    "import json\n",
    "import sys\n",
    "from keras.utils import plot_model\n",
    "\n",
    "import json"
   ]
  },
  {
   "cell_type": "code",
   "execution_count": 2,
   "id": "fde8ac09-3553-4b6a-a8a0-f51cdc737f87",
   "metadata": {},
   "outputs": [],
   "source": [
    "def convolutional_block(x,hidden_layers,kernel,size,input_dimension,strides=1,skip_connection=False):\n",
    "    y=Conv2D(kernel,kernel_size=size,strides=strides,padding='same')(x)\n",
    "    for i in range(2,hidden_layers):\n",
    "        y=Conv2D(kernel,kernel_size=size,strides=strides,padding='same')(y)\n",
    "    y=Conv2D(kernel,kernel_size=size,strides=strides,padding='same')(y)\n",
    "    if skip_connection:\n",
    "        if input_dimension!=kernel:\n",
    "            x=Conv2D(kernel,kernel_size=1,strides=1,padding='same')(x)\n",
    "        y=Add()([x,y])\n",
    "    y=Activation('relu')(y)\n",
    "    return y"
   ]
  },
  {
   "cell_type": "code",
   "execution_count": 17,
   "id": "d03da893-3adc-4ed6-8a5e-2eb85625225c",
   "metadata": {},
   "outputs": [],
   "source": [
    "input_layer=Input(shape=(20,20,1))\n",
    "conv_1=Conv2D(16,3,strides=1,padding='same')(input_layer)\n",
    "conv_block=convolutional_block(conv_1,1,16,3,16,strides=1,skip_connection=True)\n",
    "conv_block=convolutional_block(conv_block,1,32,3,16,strides=1,skip_connection=True)\n",
    "conv_block=convolutional_block(conv_block,1,32,3,16,strides=1,skip_connection=True)\n",
    "flat=Flatten()(conv_block)\n",
    "outputs = Dense(1,activation='sigmoid')(flat)\n",
    "ResNet_CNN = Model(inputs=input_layer, outputs=outputs)"
   ]
  },
  {
   "cell_type": "code",
   "execution_count": 11,
   "id": "bdb05dcf-2d27-4f06-b4cc-7d12128d6747",
   "metadata": {},
   "outputs": [],
   "source": [
    "input_layer=Input(shape=(20,20,1))\n",
    "conv_1=Conv2D(16,3,strides=1,padding='same')(input_layer)\n",
    "conv_block=convolutional_block(conv_1,3,16,3,16,strides=1,skip_connection=True)\n",
    "conv_block=convolutional_block(conv_block,3,16,3,16,strides=1,skip_connection=True)\n",
    "conv_block=convolutional_block(conv_block,3,16,3,16,strides=1,skip_connection=True)\n",
    "conv_block=convolutional_block(conv_block,3,16,3,16,strides=1,skip_connection=True)\n",
    "conv_block=convolutional_block(conv_block,3,32,3,16,strides=1,skip_connection=True)\n",
    "conv_block=convolutional_block(conv_block,3,32,3,32,strides=1,skip_connection=True)\n",
    "conv_block=convolutional_block(conv_block,3,32,3,32,strides=1,skip_connection=True)\n",
    "conv_block=convolutional_block(conv_block,3,32,3,32,strides=1,skip_connection=True)\n",
    "conv_block=convolutional_block(conv_block,3,32,3,16,strides=1,skip_connection=True)\n",
    "conv_block=convolutional_block(conv_block,3,64,3,64,strides=1,skip_connection=True)\n",
    "flat=Flatten()(conv_block)\n",
    "outputs = Dense(1,activation='sigmoid')(flat)\n",
    "ResNet_CNN = Model(inputs=input_layer, outputs=outputs)"
   ]
  },
  {
   "cell_type": "code",
   "execution_count": 18,
   "id": "a6f5efd6-1581-4c65-85ae-2efa8376f35c",
   "metadata": {},
   "outputs": [],
   "source": [
    "tot_par=ResNet_CNN.count_params()\n",
    "str_par=str(tot_par)[:3]+'k_par'\n",
    "modello_json = ResNet_CNN.to_json()\n",
    "with open('ResNet_CNN_'+str_par+'.json', 'w') as f:\n",
    "    f.write(modello_json)\n",
    "plot_model(ResNet_CNN, to_file='ResNet_CNN_'+str_par+'.png',show_shapes=True, show_layer_names=True)\n",
    "\n",
    "with open('ResNet_CNN_'+str_par+'_summary.txt', 'w') as f:\n",
    "    ResNet_CNN.summary(print_fn=lambda x: f.write(x + '\\n'))"
   ]
  },
  {
   "cell_type": "code",
   "execution_count": 13,
   "id": "32a9cd67-9925-4dd4-a702-172fa76c5a7f",
   "metadata": {},
   "outputs": [],
   "source": [
    "input_layer=Input(shape=(20,20,1))\n",
    "conv_1=Conv2D(16,3,strides=1,padding='same')(input_layer)\n",
    "conv_block=convolutional_block(conv_1,3,16,3,16,strides=1,skip_connection=False)\n",
    "conv_block=convolutional_block(conv_block,3,16,3,16,strides=1,skip_connection=False)\n",
    "conv_block=convolutional_block(conv_block,3,16,3,16,strides=1,skip_connection=False)\n",
    "conv_block=convolutional_block(conv_block,3,16,3,16,strides=1,skip_connection=False)\n",
    "conv_block=convolutional_block(conv_block,3,32,3,16,strides=1,skip_connection=False)\n",
    "conv_block=convolutional_block(conv_block,3,32,3,32,strides=1,skip_connection=False)\n",
    "conv_block=convolutional_block(conv_block,3,32,3,32,strides=1,skip_connection=False)\n",
    "conv_block=convolutional_block(conv_block,3,32,3,32,strides=1,skip_connection=False)\n",
    "conv_block=convolutional_block(conv_block,3,64,3,32,strides=1,skip_connection=False)\n",
    "conv_block=convolutional_block(conv_block,3,64,3,64,strides=1,skip_connection=False)\n",
    "flat=Flatten()(conv_block)\n",
    "outputs = Dense(1,activation='sigmoid')(flat)\n",
    "CNN = Model(inputs=input_layer, outputs=outputs)"
   ]
  },
  {
   "cell_type": "code",
   "execution_count": 14,
   "id": "b7db42e8-6044-49cf-9912-832b24c78862",
   "metadata": {},
   "outputs": [],
   "source": [
    "tot_par=CNN.count_params()\n",
    "str_par=str(tot_par)[:3]+'k_par'\n",
    "modello_json = CNN.to_json()\n",
    "with open('CNN_'+str_par+'.json', 'w') as f:\n",
    "    f.write(modello_json)\n",
    "plot_model(CNN, to_file='CNN_'+str_par+'.png',show_shapes=True, show_layer_names=True)\n",
    "\n",
    "with open('CNN_'+str_par+'_summary.txt', 'w') as f:\n",
    "    CNN.summary(print_fn=lambda x: f.write(x + '\\n'))"
   ]
  },
  {
   "cell_type": "code",
   "execution_count": null,
   "id": "b6f7203b-6865-4a34-9385-138a383ab3f5",
   "metadata": {},
   "outputs": [],
   "source": []
  }
 ],
 "metadata": {
  "kernelspec": {
   "display_name": "HERD",
   "language": "python",
   "name": "hep2"
  },
  "language_info": {
   "codemirror_mode": {
    "name": "ipython",
    "version": 3
   },
   "file_extension": ".py",
   "mimetype": "text/x-python",
   "name": "python",
   "nbconvert_exporter": "python",
   "pygments_lexer": "ipython3",
   "version": "3.9.15"
  }
 },
 "nbformat": 4,
 "nbformat_minor": 5
}
