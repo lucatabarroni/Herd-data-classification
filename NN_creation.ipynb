{
 "cells": [
  {
   "cell_type": "code",
   "execution_count": 1,
   "id": "c67d9f73-594b-4a4c-894e-00d3ee44fa6e",
   "metadata": {},
   "outputs": [
    {
     "name": "stderr",
     "output_type": "stream",
     "text": [
      "2024-07-11 14:18:43.356059: I tensorflow/core/util/util.cc:169] oneDNN custom operations are on. You may see slightly different numerical results due to floating-point round-off errors from different computation orders. To turn them off, set the environment variable `TF_ENABLE_ONEDNN_OPTS=0`.\n"
     ]
    }
   ],
   "source": [
    "import tensorflow as tf\n",
    "from tensorflow import keras\n",
    "from keras.applications.inception_v3 import InceptionV3\n",
    "from tensorflow.keras import layers, models\n",
    "from keras.models import Model\n",
    "from keras.layers import Input, Dense, Conv2D,Conv1D, MaxPooling2D, UpSampling2D,Activation,GlobalAveragePooling2D,AveragePooling2D,BatchNormalization,Dropout,Flatten \n",
    "from tensorflow.keras.layers import concatenate,Add, Lambda\n",
    "from keras.utils import plot_model\n",
    "from tensorflow.keras.optimizers import schedules, SGD\n",
    "from tensorflow.keras.callbacks import TensorBoard, ModelCheckpoint"
   ]
  },
  {
   "cell_type": "code",
   "execution_count": 2,
   "id": "fe52a2de-d2a8-40f4-9b8b-22274d13dd8d",
   "metadata": {},
   "outputs": [],
   "source": [
    "import numpy as np\n",
    "import os\n",
    "import json\n",
    "import sys\n",
    "import warnings"
   ]
  },
  {
   "cell_type": "markdown",
   "id": "bc6e49b3-3ecc-4d1b-958d-c7a73e57a5ab",
   "metadata": {},
   "source": [
    "CNN"
   ]
  },
  {
   "cell_type": "code",
   "execution_count": 3,
   "id": "c4388b06-964d-4b76-8426-989cd77e9f43",
   "metadata": {},
   "outputs": [],
   "source": [
    "def convolutional_block(x, filters,block_id=0,stack_id=0, kernel_size=3, stride=1):\n",
    "    y = Conv2D(filters, kernel_size=kernel_size, strides=stride, padding='same')(x)\n",
    "    y = Activation('relu')(y)\n",
    "    y = Conv2D(filters, kernel_size=kernel_size, strides=stride, padding='same')(y)\n",
    "    y = Activation('relu')(y)\n",
    "    return y\n",
    "def creation_model(input_shape, depth, num_classes=2):\n",
    "    if (depth - 2) % 6 != 0:\n",
    "        raise ValueError('depth should be 6n+2 (eg 20, 32, 44 in [a])')\n",
    "    num_filters = 16\n",
    "    num_blocks = int((depth - 2) / 6)\n",
    "    inputs = Input(shape=input_shape)\n",
    "    x = Conv2D(num_filters, kernel_size=3, strides=1, padding='same')(inputs)\n",
    "    for stack in range(3):\n",
    "        for block_id in range(num_blocks):\n",
    "           x = convolutional_block(x,num_filters,block_id,stack)\n",
    "        num_filters *= 2\n",
    "    x = Flatten()(x)\n",
    "    x = Dense(1)(x)\n",
    "    outputs = Activation('sigmoid')(x)\n",
    "    model = Model(inputs=inputs, outputs=outputs)\n",
    "    return model"
   ]
  },
  {
   "cell_type": "code",
   "execution_count": 4,
   "id": "8bdff600-f64e-4d82-becb-f0550c26037e",
   "metadata": {},
   "outputs": [
    {
     "name": "stderr",
     "output_type": "stream",
     "text": [
      "2024-07-11 14:18:54.652559: I tensorflow/stream_executor/cuda/cuda_gpu_executor.cc:975] successful NUMA node read from SysFS had negative value (-1), but there must be at least one NUMA node, so returning NUMA node zero\n",
      "2024-07-11 14:18:54.733816: I tensorflow/stream_executor/cuda/cuda_gpu_executor.cc:975] successful NUMA node read from SysFS had negative value (-1), but there must be at least one NUMA node, so returning NUMA node zero\n",
      "2024-07-11 14:18:54.734212: I tensorflow/stream_executor/cuda/cuda_gpu_executor.cc:975] successful NUMA node read from SysFS had negative value (-1), but there must be at least one NUMA node, so returning NUMA node zero\n",
      "2024-07-11 14:18:54.735329: I tensorflow/core/platform/cpu_feature_guard.cc:193] This TensorFlow binary is optimized with oneAPI Deep Neural Network Library (oneDNN) to use the following CPU instructions in performance-critical operations:  SSE4.1 SSE4.2 AVX AVX2 AVX512F AVX512_VNNI FMA\n",
      "To enable them in other operations, rebuild TensorFlow with the appropriate compiler flags.\n",
      "2024-07-11 14:18:54.736772: I tensorflow/stream_executor/cuda/cuda_gpu_executor.cc:975] successful NUMA node read from SysFS had negative value (-1), but there must be at least one NUMA node, so returning NUMA node zero\n",
      "2024-07-11 14:18:54.737038: I tensorflow/stream_executor/cuda/cuda_gpu_executor.cc:975] successful NUMA node read from SysFS had negative value (-1), but there must be at least one NUMA node, so returning NUMA node zero\n",
      "2024-07-11 14:18:54.737210: I tensorflow/stream_executor/cuda/cuda_gpu_executor.cc:975] successful NUMA node read from SysFS had negative value (-1), but there must be at least one NUMA node, so returning NUMA node zero\n",
      "2024-07-11 14:18:54.871797: I tensorflow/stream_executor/cuda/cuda_gpu_executor.cc:975] successful NUMA node read from SysFS had negative value (-1), but there must be at least one NUMA node, so returning NUMA node zero\n",
      "2024-07-11 14:18:54.872199: I tensorflow/stream_executor/cuda/cuda_gpu_executor.cc:975] successful NUMA node read from SysFS had negative value (-1), but there must be at least one NUMA node, so returning NUMA node zero\n",
      "2024-07-11 14:18:54.872396: I tensorflow/stream_executor/cuda/cuda_gpu_executor.cc:975] successful NUMA node read from SysFS had negative value (-1), but there must be at least one NUMA node, so returning NUMA node zero\n",
      "2024-07-11 14:18:54.872581: I tensorflow/core/common_runtime/gpu/gpu_device.cc:1532] Created device /job:localhost/replica:0/task:0/device:GPU:0 with 683 MB memory:  -> device: 0, name: Quadro RTX 5000, pci bus id: 0000:00:09.0, compute capability: 7.5\n"
     ]
    }
   ],
   "source": [
    "input=(20,20,1)\n",
    "CNN=creation_model(input,14,2)\n",
    "# Ottieni la rappresentazione JSON del modello\n",
    "modello_json = CNN.to_json()\n",
    "\n",
    "# Salva la rappresentazione JSON del modello in un file\n",
    "with open('CNN.json', 'w') as f:\n",
    "    f.write(modello_json)\n",
    "plot_model(CNN, to_file='CNN.png',show_shapes=True, show_layer_names=True)\n",
    "\n",
    "with open('CNN_summary.txt', 'w') as f:\n",
    "    CNN.summary(print_fn=lambda x: f.write(x + '\\n'))"
   ]
  },
  {
   "cell_type": "markdown",
   "id": "ccff9f78-c9f6-47f4-9d68-9b88e83cca75",
   "metadata": {},
   "source": [
    "CNN_ResNet"
   ]
  },
  {
   "cell_type": "code",
   "execution_count": 5,
   "id": "89852bc8-2c82-4aea-a2fb-54a8900f93bd",
   "metadata": {},
   "outputs": [],
   "source": [
    "def residual_block(x, filters,block_id=0,stack_id=0, kernel_size=3, stride=1):\n",
    "    y = Conv2D(filters, kernel_size=kernel_size, strides=stride, padding='same')(x)\n",
    "    y = Activation('relu')(y)\n",
    "    y = Conv2D(filters, kernel_size=kernel_size, strides=stride, padding='same')(y)\n",
    "    if block_id==0 and stack_id!=0:\n",
    "        x = Conv2D(filters, kernel_size=1, strides=stride, padding='same')(x)\n",
    "    y = Add()([x, y])\n",
    "    y = Activation('relu')(y)\n",
    "    return y\n",
    "def resnet(input_shape, depth, num_classes=2):\n",
    "    if (depth - 2) % 6 != 0:\n",
    "        raise ValueError('depth should be 6n+2 (eg 20, 32, 44 in [a])')\n",
    "    num_filters = 16\n",
    "    num_res_blocks = int((depth - 2) / 6)\n",
    "    inputs = Input(shape=input_shape)\n",
    "    x = Conv2D(num_filters, kernel_size=3, strides=1, padding='same')(inputs)\n",
    "    for stack in range(3):\n",
    "        for res_block in range(num_res_blocks):\n",
    "           x = residual_block(x, num_filters,res_block,stack)\n",
    "        num_filters *= 2\n",
    "    x=Flatten()(x)\n",
    "    x = Dense(1)(x)\n",
    "    outputs = Activation('sigmoid')(x)\n",
    "    model = Model(inputs=inputs, outputs=outputs)\n",
    "    return model"
   ]
  },
  {
   "cell_type": "code",
   "execution_count": 7,
   "id": "03abd133-3c0c-4390-9957-a48b6be3c328",
   "metadata": {},
   "outputs": [],
   "source": [
    "input=(20,20,1)\n",
    "CNN_ResNet=resnet(input,14,2)\n",
    "\n",
    "# Ottieni la rappresentazione JSON del modello\n",
    "modello_json = CNN_ResNet.to_json()\n",
    "\n",
    "# Salva la rappresentazione JSON del modello in un file\n",
    "with open('ResNet_CNN.json', 'w') as f:\n",
    "    f.write(modello_json)\n",
    "plot_model(CNN_ResNet, to_file='ResNet_CNN.png',show_shapes=True, show_layer_names=True)\n",
    "\n",
    "with open('ResNet_CNN_summary.txt', 'w') as f:\n",
    "    CNN_ResNet.summary(print_fn=lambda x: f.write(x + '\\n'))"
   ]
  },
  {
   "cell_type": "markdown",
   "id": "ef9a7ef9-3cc7-46b0-bde2-d0560733b1b3",
   "metadata": {},
   "source": [
    "Inception"
   ]
  },
  {
   "cell_type": "code",
   "execution_count": 8,
   "id": "03b44f11-c0b8-4c61-9abd-c89190c9bc7d",
   "metadata": {},
   "outputs": [],
   "source": [
    "def initial_conv(input_img):\n",
    "    x = Conv2D(8, (2, 2), activation='relu', padding='same')(input_img)\n",
    "    x = BatchNormalization(axis=3)(x)\n",
    "    x = MaxPooling2D((2, 2), strides=2)(x)\n",
    "    x = Conv2D(8, (2, 2), activation='relu', padding='same')(x)\n",
    "    x = BatchNormalization(axis=3)(x)\n",
    "    return x\n",
    "\n",
    "def Conv_2D_Block(x, model_width, kernel, strides=(1, 1), padding=\"same\"):\n",
    "    # 2D Convolutional Block with BatchNormalization\n",
    "    x = tf.keras.layers.Conv2D(model_width, kernel, strides=strides, padding=padding, kernel_initializer=\"he_normal\")(x)\n",
    "    x = tf.keras.layers.BatchNormalization(axis=3)(x)\n",
    "    x = tf.keras.layers.Activation('relu')(x)\n",
    "    return x\n",
    "\n",
    "def Inceptionv1_Module(inputs, filterB1_1, filterB2_1, filterB2_2, filterB3_1, filterB3_2, filterB4_1, i):\n",
    "    # Inception Block i\n",
    "    branch1x1 = Conv_2D_Block(inputs, filterB1_1, (1, 1), padding='valid')\n",
    "    branch1x1 = Conv_2D_Block(inputs, filterB1_1, (1, 1), padding='valid')\n",
    "\n",
    "    branch3x3 = Conv_2D_Block(inputs, filterB2_1, (1, 1), padding='valid')\n",
    "    branch3x3 = Conv_2D_Block(branch3x3, filterB2_2, (3, 3))\n",
    "\n",
    "    branch5x5 = Conv_2D_Block(inputs, filterB3_1, (1, 1), padding='valid')\n",
    "    branch5x5 = Conv_2D_Block(branch5x5, filterB3_2, (5, 5))\n",
    "\n",
    "    out = tf.keras.layers.concatenate([branch1x1, branch3x3, branch5x5], axis=-1, name='Inception_Block_'+str(i))\n",
    "    return out\n",
    "\n",
    "def final_block(input):\n",
    "    # Average pooling\n",
    "    x = AveragePooling2D((3,3), strides=1)(input)\n",
    "\n",
    "    # Flatten\n",
    "    x = Flatten()(x)\n",
    "\n",
    "    # Fully connected layer\n",
    "    x = Dense(1, activation='sigmoid')(x)\n",
    "    return x"
   ]
  },
  {
   "cell_type": "code",
   "execution_count": 11,
   "id": "02d2977a-7d32-4f7c-b1db-38a5d670f7a4",
   "metadata": {},
   "outputs": [],
   "source": [
    "inputs = Input(shape=(20, 20,1))\n",
    "x = initial_conv(inputs)\n",
    "x = Inceptionv1_Module(x, 16, 16, 16, 16, 16, 16, 3)\n",
    "x = Inceptionv1_Module(x, 32, 32, 32, 32, 32, 32, 4)\n",
    "x = Inceptionv1_Module(x, 64, 64, 64, 64,  64, 64, 5)\n",
    "x = Inceptionv1_Module(x, 64, 64, 64, 64,  64, 64, 6)\n",
    "output = final_block(x)\n",
    "\n",
    "v1=Model(inputs,output)\n",
    "\n",
    "# Ottieni la rappresentazione JSON del modello\n",
    "modello_json = v1.to_json()\n",
    "# Salva la rappresentazione JSON del modello in un file\n",
    "with open('V1_CNN.json', 'w') as f:\n",
    "    f.write(modello_json)\n",
    "    \n",
    "plot_model(v1, to_file='V1_CNN.png',show_shapes=True, show_layer_names=True)\n",
    "\n",
    "with open('V1_CNN_summary.txt', 'w') as f:\n",
    "    v1.summary(print_fn=lambda x: f.write(x + '\\n'))"
   ]
  },
  {
   "cell_type": "code",
   "execution_count": null,
   "id": "733e3123-976d-4f36-a533-9db9df1ef53d",
   "metadata": {},
   "outputs": [],
   "source": []
  }
 ],
 "metadata": {
  "kernelspec": {
   "display_name": "HERD",
   "language": "python",
   "name": "hep2"
  },
  "language_info": {
   "codemirror_mode": {
    "name": "ipython",
    "version": 3
   },
   "file_extension": ".py",
   "mimetype": "text/x-python",
   "name": "python",
   "nbconvert_exporter": "python",
   "pygments_lexer": "ipython3",
   "version": "3.9.15"
  }
 },
 "nbformat": 4,
 "nbformat_minor": 5
}
